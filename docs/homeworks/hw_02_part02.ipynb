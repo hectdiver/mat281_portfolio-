{
  "cells": [
    {
      "cell_type": "markdown",
      "metadata": {
        "id": "FD_Q33gklxOa"
      },
      "source": [
        "<a href=\"https://colab.research.google.com/github/fralfaro/MAT281_2024/blob/main/docs/homeworks/hw_02.ipynb\" target=\"_parent\"><img src=\"https://colab.research.google.com/assets/colab-badge.svg\" alt=\"Open In Colab\"/></a>\n",
        "\n",
        "\n",
        "\n",
        "# MAT281 - Tarea N°02\n",
        "\n",
        "\n",
        "## Instrucciones\n",
        "\n",
        "1.- Completa tus datos personales (nombre y rol USM) en siguiente celda.\n",
        "\n",
        "\n",
        "* __Nombre__: Héctor Silva\n",
        "\n",
        "* __Rol__: 201811569-k\n",
        "\n",
        "2.- Debes _subir_ este archivo con tus cambios a tu repositorio personal del curso, incluyendo datos, imágenes, scripts, etc.\n",
        "\n",
        "3.- Se evaluará:\n",
        "   - Soluciones\n",
        "   - Código\n",
        "   - Al presionar  `Kernel -> Restart Kernel and Run All Cells` deben ejecutarse todas las celdas sin error.\n",
        "   \n",
        "4.- Esta Tarea debe ser entregada en **Dos Jupyter Notebooks Distinto**.\n",
        "   * **Ejemplo**: `hw_02_part_01.ipynb`, `hw_02_part_02.ipynb`."
      ]
    },
    {
      "cell_type": "markdown",
      "metadata": {
        "id": "w6HApyhZlxOe"
      },
      "source": [
        "## II.- Titanic - Machine Learning from Disaster\n",
        "\n",
        "<img src=\"https://i.pinimg.com/originals/8c/ef/e7/8cefe799c4d5d2ad4ad7f6524d3838f4.png\" width = \"400\" align=\"center\"/>\n"
      ]
    },
    {
      "cell_type": "markdown",
      "metadata": {
        "id": "W9ogW32slxOe"
      },
      "source": [
        "El desafío **Titanic - Machine Learning from Disaster** en [Kaggle](https://www.kaggle.com/competitions/titanic/overview/description) invita a predecir qué pasajeros sobrevivieron al naufragio del Titanic mediante un modelo de machine learning. Utiliza datos reales de los pasajeros, como su nombre, edad, género y clase socioeconómica, para explorar patrones de supervivencia y construir un modelo predictivo. Este es uno de los desafíos más populares de Kaggle y un excelente punto de partida para aprender sobre machine learning y análisis de datos.\n",
        "\n",
        "### Pasos para participar:\n",
        "\n",
        "1. **Unirse a la competencia**:\n",
        "   - [Crea una cuenta o inicia sesión en Kaggle](https://www.kaggle.com/account/login?returnUrl=%2Fc%2Ftitanic) y acepta las reglas para acceder a los datos de la competencia.\n",
        "   \n",
        "2. **Descargar y explorar los datos**:\n",
        "   - Descarga los archivos `train.csv` y `test.csv` desde la [página de datos](https://www.kaggle.com/competitions/titanic/data).\n",
        "   - `train.csv` contiene información de 891 pasajeros, incluyendo si sobrevivieron o no (columna `Survived`). En `test.csv`, se oculta esta columna para que tu modelo prediga la supervivencia de 418 pasajeros adicionales.\n",
        "\n",
        "3. **Desarrollar el modelo**:\n",
        "   - Usa `train.csv` para explorar y descubrir patrones, luego entrena un modelo de machine learning que pueda predecir la supervivencia en `test.csv`. Un recurso útil para aprender es el [tutorial de Alexis Cook](https://www.kaggle.com/alexisbcook/titanic-tutorial), que explica paso a paso cómo hacer tu primera predicción.\n",
        "   - Puedes explorar notebooks de otros participantes para inspiración y técnicas avanzadas en la [sección de notebooks](https://www.kaggle.com/c/titanic/notebooks).\n",
        "\n",
        "4. **Realizar una predicción y enviar tu archivo**:\n",
        "   - El archivo CSV de predicciones debe tener dos columnas: `PassengerId` y `Survived`. Puedes consultar un ejemplo en el archivo `gender_submission.csv` disponible en la [página de datos](https://www.kaggle.com/competitions/titanic/data).\n",
        "   - Sube tu archivo en la sección de envíos y revisa tu puntaje de precisión, que mide el porcentaje de pasajeros que tu modelo predijo correctamente.\n",
        "\n",
        "5. **Revisar el leaderboard y mejorar el modelo**:\n",
        "   - Ve tu posición en el [leaderboard](https://www.kaggle.com/c/titanic/leaderboard) y mejora tu modelo basándote en ideas de los foros o pruebas adicionales.\n",
        "\n",
        "### Ayuda y recursos adicionales:\n",
        "\n",
        "- [Foro de discusión del Titanic](https://www.kaggle.com/c/titanic/discussion): Un espacio donde puedes hacer preguntas y ver consejos de otros participantes.\n",
        "- [Vídeo sobre la jerga de Kaggle](https://www.youtube.com/watch?v=sEJHyuWKd-s) por Dr. Rachael Tatman, para entender mejor los términos comunes en Kaggle.\n",
        "- [Notebooks de la competencia](https://www.kaggle.com/c/titanic/notebooks): Revisa notebooks compartidos para ver cómo otros abordan el desafío.\n",
        "\n",
        "Este desafío es ideal para principiantes en machine learning y permite practicar desde la limpieza de datos hasta el desarrollo y evaluación de modelos."
      ]
    },
    {
      "cell_type": "code",
      "execution_count": 1,
      "metadata": {
        "id": "QV5CvFmglxOe",
        "outputId": "6744259b-82ba-42bb-ac8d-c445f255ae05",
        "colab": {
          "base_uri": "https://localhost:8080/"
        }
      },
      "outputs": [
        {
          "output_type": "stream",
          "name": "stdout",
          "text": [
            "Mounted at /content/drive\n",
            "   PassengerId  Survived  Pclass  \\\n",
            "0            1         0       3   \n",
            "1            2         1       1   \n",
            "2            3         1       3   \n",
            "3            4         1       1   \n",
            "4            5         0       3   \n",
            "\n",
            "                                                Name     Sex   Age  SibSp  \\\n",
            "0                            Braund, Mr. Owen Harris    male  22.0      1   \n",
            "1  Cumings, Mrs. John Bradley (Florence Briggs Th...  female  38.0      1   \n",
            "2                             Heikkinen, Miss. Laina  female  26.0      0   \n",
            "3       Futrelle, Mrs. Jacques Heath (Lily May Peel)  female  35.0      1   \n",
            "4                           Allen, Mr. William Henry    male  35.0      0   \n",
            "\n",
            "   Parch            Ticket     Fare Cabin Embarked  \n",
            "0      0         A/5 21171   7.2500   NaN        S  \n",
            "1      0          PC 17599  71.2833   C85        C  \n",
            "2      0  STON/O2. 3101282   7.9250   NaN        S  \n",
            "3      0            113803  53.1000  C123        S  \n",
            "4      0            373450   8.0500   NaN        S  \n",
            "<class 'pandas.core.frame.DataFrame'>\n",
            "RangeIndex: 891 entries, 0 to 890\n",
            "Data columns (total 12 columns):\n",
            " #   Column       Non-Null Count  Dtype  \n",
            "---  ------       --------------  -----  \n",
            " 0   PassengerId  891 non-null    int64  \n",
            " 1   Survived     891 non-null    int64  \n",
            " 2   Pclass       891 non-null    int64  \n",
            " 3   Name         891 non-null    object \n",
            " 4   Sex          891 non-null    object \n",
            " 5   Age          714 non-null    float64\n",
            " 6   SibSp        891 non-null    int64  \n",
            " 7   Parch        891 non-null    int64  \n",
            " 8   Ticket       891 non-null    object \n",
            " 9   Fare         891 non-null    float64\n",
            " 10  Cabin        204 non-null    object \n",
            " 11  Embarked     889 non-null    object \n",
            "dtypes: float64(2), int64(5), object(5)\n",
            "memory usage: 83.7+ KB\n",
            "None\n",
            "       PassengerId    Survived      Pclass         Age       SibSp  \\\n",
            "count   891.000000  891.000000  891.000000  714.000000  891.000000   \n",
            "mean    446.000000    0.383838    2.308642   29.699118    0.523008   \n",
            "std     257.353842    0.486592    0.836071   14.526497    1.102743   \n",
            "min       1.000000    0.000000    1.000000    0.420000    0.000000   \n",
            "25%     223.500000    0.000000    2.000000   20.125000    0.000000   \n",
            "50%     446.000000    0.000000    3.000000   28.000000    0.000000   \n",
            "75%     668.500000    1.000000    3.000000   38.000000    1.000000   \n",
            "max     891.000000    1.000000    3.000000   80.000000    8.000000   \n",
            "\n",
            "            Parch        Fare  \n",
            "count  891.000000  891.000000  \n",
            "mean     0.381594   32.204208  \n",
            "std      0.806057   49.693429  \n",
            "min      0.000000    0.000000  \n",
            "25%      0.000000    7.910400  \n",
            "50%      0.000000   14.454200  \n",
            "75%      0.000000   31.000000  \n",
            "max      6.000000  512.329200  \n"
          ]
        }
      ],
      "source": [
        "import pandas as pd\n",
        "import numpy as np\n",
        "import matplotlib.pyplot as plt\n",
        "import seaborn as sns\n",
        "from sklearn.model_selection import train_test_split\n",
        "from sklearn.ensemble import RandomForestClassifier\n",
        "from sklearn.metrics import accuracy_score\n",
        "\n",
        "# Configurar estilo de gráficos de seaborn\n",
        "#sns.set_theme(style=\"whitegrid\")\n",
        "\n",
        "from google.colab import drive\n",
        "drive.mount('/content/drive')\n",
        "\n",
        "# Cargar archivos\n",
        "train= pd.read_csv('/content/drive/MyDrive/data/train.csv')\n",
        "test = pd.read_csv('/content/drive/MyDrive/data/test.csv')\n",
        "\n",
        "#explorar\n",
        "print(train.head())\n",
        "print(train.info())\n",
        "print(train.describe())\n"
      ]
    },
    {
      "cell_type": "code",
      "source": [
        "# Visualización de supervivencia\n",
        "import seaborn as sns\n",
        "sns.countplot(data=train, x='Survived')\n",
        "plt.title(\"Distribución de Supervivencia\")\n",
        "plt.show()"
      ],
      "metadata": {
        "id": "OzFAdx4UvUri",
        "outputId": "0b6da7ea-b5d2-45e2-e750-b7e810f60c76",
        "colab": {
          "base_uri": "https://localhost:8080/",
          "height": 472
        }
      },
      "execution_count": 2,
      "outputs": [
        {
          "output_type": "display_data",
          "data": {
            "text/plain": [
              "<Figure size 640x480 with 1 Axes>"
            ],
            "image/png": "[encoded data removed]"
          },
          "metadata": {}
        }
      ]
    },
    {
      "cell_type": "markdown",
      "source": [
        "Claramente la cantidad sobrevivientes es menor"
      ],
      "metadata": {
        "id": "ljofuNQ1yI7d"
      }
    },
    {
      "cell_type": "code",
      "source": [
        "# Ver datos faltantes\n",
        "\n",
        "missing_values = train.isnull().sum()\n",
        "missing_percentage = (missing_values / len(train)) * 100\n",
        "\n",
        "# Crear un DataFrame para almacenar la información\n",
        "missing_data = pd.DataFrame({\n",
        "    'Valores Faltantes': missing_values,\n",
        "    'Porcentaje (%)': missing_percentage\n",
        "})\n",
        "\n",
        "# Filtrar columnas con valores faltantes\n",
        "missing_data = missing_data[missing_data['Valores Faltantes'] > 0]\n",
        "\n",
        "# Visualizar los datos faltantes con un gráfico de barras\n",
        "plt.figure(figsize=(10, 6))\n",
        "plt.bar(missing_data.index, missing_data['Valores Faltantes'], color='skyblue')\n",
        "plt.title('Cantidad de Valores Faltantes por Columna')\n",
        "plt.ylabel('Número de Valores Faltantes')\n",
        "plt.xlabel('Columnas')\n",
        "plt.xticks(rotation=45, ha='right')\n",
        "plt.show()\n"
      ],
      "metadata": {
        "id": "4VJ2UdzP1u0a",
        "outputId": "e5f067c7-08cd-4b12-d9c6-d2d0399c07a7",
        "colab": {
          "base_uri": "https://localhost:8080/",
          "height": 610
        }
      },
      "execution_count": 5,
      "outputs": [
        {
          "output_type": "display_data",
          "data": {
            "text/plain": [
              "<Figure size 1000x600 with 1 Axes>"
            ],
            "image/png": "[encoded data removed]"
          },
          "metadata": {}
        }
      ]
    },
    {
      "cell_type": "markdown",
      "source": [
        "Del gráfico se puede decir que cabin al tener tantos valores faltantes no es tan util para realizar un modelo en cambio age solo le falta aproximadamente un 20%a de los datos, y a embarked solo le faltan 2 datos por lo que se puede rellenar.\n"
      ],
      "metadata": {
        "id": "9XucQmKO2veQ"
      }
    },
    {
      "cell_type": "code",
      "source": [
        "# Relación entre clase y supervivencia\n",
        "sns.barplot(data=train, x='Pclass', y='Survived')\n",
        "plt.title(\"Tasa de Supervivencia por Clase\")\n",
        "plt.show()"
      ],
      "metadata": {
        "id": "GShzJZ442ki7",
        "outputId": "19f0e0f4-5d8a-4800-bfcf-3cc15451080c",
        "colab": {
          "base_uri": "https://localhost:8080/",
          "height": 472
        }
      },
      "execution_count": 6,
      "outputs": [
        {
          "output_type": "display_data",
          "data": {
            "text/plain": [
              "<Figure size 640x480 with 1 Axes>"
            ],
            "image/png": "[encoded data removed]"
          },
          "metadata": {}
        }
      ]
    },
    {
      "cell_type": "markdown",
      "source": [
        "se observa que a mayor clase (1) mayor es la cantidad de sobrevivientes"
      ],
      "metadata": {
        "id": "sVHcDtlJ3mNO"
      }
    },
    {
      "cell_type": "code",
      "source": [
        "# procesamiento de datos\n",
        "# reemplazar variables faltantes con la mediana en las columnas age y fare. se omitira la columna Cabin ya que son muchos datos faltantes\n",
        "train['Age'].fillna(train['Age'].median(), inplace=True)\n",
        "test['Age'].fillna(test['Age'].median(), inplace=True)\n",
        "# reemplazar variables faltantes con la moda en embarked ya que no es una variable numerica\n",
        "train['Embarked'].fillna(train['Embarked'].mode()[0], inplace=True)\n",
        "\n",
        "# Convertir variables a numéricas\n",
        "train = pd.get_dummies(train, columns=['Sex', 'Embarked'], drop_first=True)\n",
        "test = pd.get_dummies(test, columns=['Sex', 'Embarked'], drop_first=True)\n",
        "\n",
        "# Seleccionar columnas de entrenamiento\n",
        "features = ['Pclass', 'Age', 'SibSp', 'Parch', 'Fare', 'Sex_male', 'Embarked_Q', 'Embarked_S']\n",
        "X = train[features]\n",
        "y = train['Survived']\n",
        "X_test = test[features]"
      ],
      "metadata": {
        "id": "LhfqCnzO38r4",
        "outputId": "0f4a6e7d-6bf9-45bd-83a9-5c78bcf8dc28",
        "colab": {
          "base_uri": "https://localhost:8080/"
        }
      },
      "execution_count": 7,
      "outputs": [
        {
          "output_type": "stream",
          "name": "stderr",
          "text": [
            "<ipython-input-7-30cb217cf97f>:3: FutureWarning: A value is trying to be set on a copy of a DataFrame or Series through chained assignment using an inplace method.\n",
            "The behavior will change in pandas 3.0. This inplace method will never work because the intermediate object on which we are setting values always behaves as a copy.\n",
            "\n",
            "For example, when doing 'df[col].method(value, inplace=True)', try using 'df.method({col: value}, inplace=True)' or df[col] = df[col].method(value) instead, to perform the operation inplace on the original object.\n",
            "\n",
            "\n",
            "  train['Age'].fillna(train['Age'].median(), inplace=True)\n",
            "<ipython-input-7-30cb217cf97f>:4: FutureWarning: A value is trying to be set on a copy of a DataFrame or Series through chained assignment using an inplace method.\n",
            "The behavior will change in pandas 3.0. This inplace method will never work because the intermediate object on which we are setting values always behaves as a copy.\n",
            "\n",
            "For example, when doing 'df[col].method(value, inplace=True)', try using 'df.method({col: value}, inplace=True)' or df[col] = df[col].method(value) instead, to perform the operation inplace on the original object.\n",
            "\n",
            "\n",
            "  test['Age'].fillna(test['Age'].median(), inplace=True)\n",
            "<ipython-input-7-30cb217cf97f>:6: FutureWarning: A value is trying to be set on a copy of a DataFrame or Series through chained assignment using an inplace method.\n",
            "The behavior will change in pandas 3.0. This inplace method will never work because the intermediate object on which we are setting values always behaves as a copy.\n",
            "\n",
            "For example, when doing 'df[col].method(value, inplace=True)', try using 'df.method({col: value}, inplace=True)' or df[col] = df[col].method(value) instead, to perform the operation inplace on the original object.\n",
            "\n",
            "\n",
            "  train['Embarked'].fillna(train['Embarked'].mode()[0], inplace=True)\n"
          ]
        }
      ]
    },
    {
      "cell_type": "code",
      "source": [
        "# Entrenar  modelo\n",
        "X_train, X_val, y_train, y_val = train_test_split(X, y, test_size=0.2, random_state=42)\n",
        "model = RandomForestClassifier(random_state=42) #se utilizara randomforest\n",
        "model.fit(X_train, y_train)\n",
        "\n",
        "# Validar el modelo\n",
        "y_pred = model.predict(X_val)\n",
        "print(f\"Accuracy en validación: {accuracy_score(y_val, y_pred):.2f}\")"
      ],
      "metadata": {
        "id": "drJBMsWN4R6A",
        "outputId": "b5cb6739-c305-450a-e692-a30dbd5e81f4",
        "colab": {
          "base_uri": "https://localhost:8080/"
        }
      },
      "execution_count": 8,
      "outputs": [
        {
          "output_type": "stream",
          "name": "stdout",
          "text": [
            "Accuracy en validación: 0.82\n"
          ]
        }
      ]
    },
    {
      "cell_type": "code",
      "source": [
        "#Predicciones finales\n",
        "predictions = model.predict(X_test)"
      ],
      "metadata": {
        "id": "kAASmytr4VN-"
      },
      "execution_count": 10,
      "outputs": []
    },
    {
      "cell_type": "code",
      "source": [
        "#GUARDAR\n",
        "output = pd.DataFrame({'PassengerId': test['PassengerId'], 'Survived': predictions})\n",
        "output.to_csv('submission.csv', index=False)\n"
      ],
      "metadata": {
        "id": "iDtkhQRC4ZAG"
      },
      "execution_count": 11,
      "outputs": []
    },
    {
      "cell_type": "markdown",
      "source": [
        "archivo fue subido a la seccion de envios obteniendo el siguiente resultado:\n",
        "![Captura de pantalla 2024-11-30 180525.png](data:image/png;base64,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)"
      ],
      "metadata": {
        "id": "jZhvWTNe41xe"
      }
    },
    {
      "cell_type": "code",
      "source": [],
      "metadata": {
        "id": "A1BAHRoZ5CWf"
      },
      "execution_count": null,
      "outputs": []
    },
    {
      "cell_type": "markdown",
      "source": [
        "# MEJORAR MODELO\n",
        "\n"
      ],
      "metadata": {
        "id": "mOqrQzVOA_Aj"
      }
    },
    {
      "cell_type": "markdown",
      "source": [
        "el usuario Zafar Ali khan tambien utiliza random forest pero utilizando otros parametros , se probará"
      ],
      "metadata": {
        "id": "wpVxXZCgBDJE"
      }
    },
    {
      "cell_type": "code",
      "source": [
        "# Entrenar  modelo\n",
        "X_train, X_val, y_train, y_val = train_test_split(X, y, test_size=0.2, random_state=42)\n",
        "RandomForestClassifier(n_estimators=70, max_depth=4, random_state=43)\n",
        "\n",
        "model.fit(X_train, y_train)\n",
        "\n",
        "# Validar el modelo\n",
        "y_pred = model.predict(X_val)\n",
        "print(f\"Accuracy en validación: {accuracy_score(y_val, y_pred):.2f}\")\n",
        "\n",
        "#Predicciones finales\n",
        "predictions2 = model.predict(X_test)\n",
        "\n",
        "#GUARDAR\n",
        "output = pd.DataFrame({'PassengerId': test['PassengerId'], 'Survived': predictions2})\n",
        "output.to_csv('submission2.csv', index=False)"
      ],
      "metadata": {
        "colab": {
          "base_uri": "https://localhost:8080/"
        },
        "id": "LYe7xg5kCEXL",
        "outputId": "3661951a-c0ac-4d0c-aabb-7cddd379052b"
      },
      "execution_count": 15,
      "outputs": [
        {
          "output_type": "stream",
          "name": "stdout",
          "text": [
            "Accuracy en validación: 0.82\n"
          ]
        }
      ]
    },
    {
      "cell_type": "markdown",
      "source": [
        "esta modificacion no cambia el Score"
      ],
      "metadata": {
        "id": "1kBKVfpsGf6i"
      }
    },
    {
      "cell_type": "markdown",
      "source": [
        "A continuación se implementará el codigo creado por el usuario ZLATANKREMONIC el cual crea funciones para analizar de mejor manera las calumnas importantes al momento de realizar la prediccion. En el siguiente codigo se explicara cada una de las funciones."
      ],
      "metadata": {
        "id": "aN45gCEBseB9"
      }
    },
    {
      "cell_type": "code",
      "source": [],
      "metadata": {
        "id": "UvmOiZVUsdgu"
      },
      "execution_count": null,
      "outputs": []
    },
    {
      "cell_type": "code",
      "source": [
        "import pandas as pd\n",
        "import numpy as np\n",
        "from sklearn.ensemble import RandomForestClassifier\n",
        "\n",
        "# Función para procesar nombres (creacion de dos columnas, longitud de nombre de pasajero y una con el nombre)\n",
        "def names(train, test):\n",
        "    for i in [train, test]:\n",
        "        i['Name_Len'] = i['Name'].apply(lambda x: len(x))\n",
        "        i['Name_Title'] = i['Name'].apply(lambda x: x.split(',')[1]).apply(lambda x: x.split()[0])\n",
        "        del i['Name']\n",
        "    return train, test\n",
        "\n",
        "# Función donde valores vacios de age son rellenados con valor promedio de la clase del pasajero (a diferencia de mi codigo en donde se utiliza media de todos los pasajeros)\n",
        "def age_impute(train, test):\n",
        "    for i in [train, test]:\n",
        "        i['Age_Null_Flag'] = i['Age'].apply(lambda x: 1 if pd.isnull(x) else 0)\n",
        "        data = train.groupby(['Name_Title', 'Pclass'])['Age']\n",
        "        i['Age'] = data.transform(lambda x: x.fillna(x.mean()))\n",
        "    return train, test\n",
        "\n",
        "# Funcion para agrupar tamaños de familias en diferentes categorias\n",
        "def fam_size(train, test):\n",
        "    for i in [train, test]:\n",
        "        i['Fam_Size'] = np.where((i['SibSp'] + i['Parch']) == 0, 'Solo',\n",
        "                                 np.where((i['SibSp'] + i['Parch']) <= 3, 'Nuclear', 'Big'))\n",
        "        del i['SibSp']\n",
        "        del i['Parch']\n",
        "    return train, test\n",
        "\n",
        "# Función para procesar tickets creando dos columnas agrupando valores de menor frecuencia segun la tasa de supervivencia\n",
        "def ticket_grouped(train, test):\n",
        "    for i in [train, test]:\n",
        "        i['Ticket_Lett'] = i['Ticket'].apply(lambda x: str(x)[0])\n",
        "        i['Ticket_Lett'] = np.where((i['Ticket_Lett']).isin(['1', '2', '3', 'S', 'P', 'C', 'A']), i['Ticket_Lett'],\n",
        "                                    np.where((i['Ticket_Lett']).isin(['W', '4', '7', '6', 'L', '5', '8']),\n",
        "                                             'Low_ticket', 'Other_ticket'))\n",
        "        i['Ticket_Len'] = i['Ticket'].apply(lambda x: len(x))\n",
        "        del i['Ticket']\n",
        "    return train, test\n",
        "\n",
        "# Funciones para procesar cabinas\n",
        "def cabin(train, test):\n",
        "    for i in [train, test]:\n",
        "        i['Cabin_Letter'] = i['Cabin'].apply(lambda x: str(x)[0])\n",
        "        del i['Cabin']\n",
        "    return train, test\n",
        "\n",
        "def cabin_num(train, test):\n",
        "    for i in [train, test]:\n",
        "        i['Cabin_num1'] = i['Cabin'].apply(lambda x: str(x).split(' ')[-1][1:])\n",
        "        i['Cabin_num1'] = i['Cabin_num1'].replace('an', np.NaN)\n",
        "        i['Cabin_num1'] = i['Cabin_num1'].apply(lambda x: int(x) if not pd.isnull(x) and x != '' else np.NaN)\n",
        "        i['Cabin_num'] = pd.qcut(train['Cabin_num1'], 3)\n",
        "    train = pd.concat((train, pd.get_dummies(train['Cabin_num'], prefix='Cabin_num')), axis=1)\n",
        "    test = pd.concat((test, pd.get_dummies(test['Cabin_num'], prefix='Cabin_num')), axis=1)\n",
        "    del train['Cabin_num']\n",
        "    del test['Cabin_num']\n",
        "    del train['Cabin_num1']\n",
        "    del test['Cabin_num1']\n",
        "    return train, test\n",
        "\n",
        "# Función para rellenar vacios con valor mas comun (lo mismo de mi codigo)\n",
        "def embarked_impute(train, test):\n",
        "    for i in [train, test]:\n",
        "        i['Embarked'] = i['Embarked'].fillna('S')\n",
        "    return train, test\n",
        "\n",
        "# Autor utiliza scikit-learn, convierta las columnas no numericas en variables ¨Dummy¨:\n",
        "def dummies(train, test, columns=['Pclass', 'Sex', 'Embarked', 'Ticket_Lett', 'Cabin_Letter', 'Name_Title', 'Fam_Size']):\n",
        "    for column in columns:\n",
        "        train[column] = train[column].apply(lambda x: str(x))\n",
        "        test[column] = test[column].apply(lambda x: str(x))\n",
        "        good_cols = [column + '_' + i for i in train[column].unique() if i in test[column].unique()]\n",
        "        train = pd.concat((train, pd.get_dummies(train[column], prefix=column)[good_cols]), axis=1)\n",
        "        test = pd.concat((test, pd.get_dummies(test[column], prefix=column)[good_cols]), axis=1)\n",
        "        del train[column]\n",
        "        del test[column]\n",
        "    return train, test\n",
        "\n",
        "# Cargar datos\n",
        "train = pd.read_csv('/content/drive/MyDrive/data/train.csv')\n",
        "test = pd.read_csv('/content/drive/MyDrive/data/test.csv')\n",
        "\n",
        "# columnas de entrenamiento\n",
        "train, test = names(train, test)\n",
        "train, test = age_impute(train, test)\n",
        "train, test = cabin_num(train, test)\n",
        "train, test = cabin(train, test)\n",
        "train, test = embarked_impute(train, test)\n",
        "train, test = fam_size(train, test)\n",
        "test['Fare'] = test['Fare'].fillna(train['Fare'].mean())\n",
        "train, test = ticket_grouped(train, test)\n",
        "train, test = dummies(train, test, columns=['Pclass', 'Sex', 'Embarked', 'Ticket_Lett', 'Cabin_Letter', 'Name_Title', 'Fam_Size'])\n",
        "\n",
        "X_train = train.drop(['Survived'], axis=1)\n",
        "y_train = train['Survived']\n",
        "X_test = test[X_train.columns]  # Asegúrate de que solo usamos las columnas que están en X_train\n",
        "\n",
        "# Modelo Random Forest con los mismos parametros que usa el autor\n",
        "rf = RandomForestClassifier(criterion='gini',\n",
        "                            n_estimators=700,\n",
        "                            min_samples_split=10,\n",
        "                            min_samples_leaf=1,\n",
        "                            max_features='sqrt',\n",
        "                            oob_score=True,\n",
        "                            random_state=1,\n",
        "                            n_jobs=-1)\n",
        "rf.fit(X_train, y_train)\n",
        "print(f\"OOB Score: {rf.oob_score_:.4f}\")\n",
        "\n",
        "# Hacer predicciones\n",
        "predictions3 = rf.predict(X_test)\n",
        "\n",
        "# GUARDAR\n",
        "output = pd.DataFrame({'PassengerId': test['PassengerId'], 'Survived': predictions3})\n",
        "output.to_csv('submission3.csv', index=False)\n",
        "\n",
        "\n"
      ],
      "metadata": {
        "colab": {
          "base_uri": "https://localhost:8080/"
        },
        "id": "MEdXK27_GfjQ",
        "outputId": "efcfde18-8841-4619-cc91-8c6319fb5c4f"
      },
      "execution_count": 29,
      "outputs": [
        {
          "output_type": "stream",
          "name": "stdout",
          "text": [
            "OOB Score: 0.8339\n"
          ]
        }
      ]
    },
    {
      "cell_type": "markdown",
      "source": [
        "Nuevamente, el archivo \"submission\" es subido a Kaggle para obtener el score y se alcanza un valor de 0.78468, aumentando el score que se obtuvo inicialmente.\n",
        "\n",
        "Comentarios al respecto:\n",
        "\n",
        "El usuario ZLATANKREMONIC obtiene un score de 82.78%, un valor que es mayor al obtenido, lo cual puede deberse a diferencias en el preprocesamiento de datos y una mejor implementación de las funciones en el modelo. Cabe destacar que las funciones no fueron creadas por mí, sino que fueron extraídas directamente del código realizado por el usuario e implementadas en este notebook.\n",
        "\n",
        "Se puede concluir que realizar un análisis detallado de cada una de las columnas puede conllevar a obtener una mejor predicción; por ejemplo, agrupar tamaños de familias, analizar parentescos y utilizar el promedio de edad según la categoría del pasajero, etc."
      ],
      "metadata": {
        "id": "7-iqeZNovHSo"
      }
    }
  ],
  "metadata": {
    "kernelspec": {
      "display_name": "Python 3 (ipykernel)",
      "language": "python",
      "name": "python3"
    },
    "language_info": {
      "codemirror_mode": {
        "name": "ipython",
        "version": 3
      },
      "file_extension": ".py",
      "mimetype": "text/x-python",
      "name": "python",
      "nbconvert_exporter": "python",
      "pygments_lexer": "ipython3",
      "version": "3.8.10"
    },
    "colab": {
      "provenance": []
    }
  },
  "nbformat": 4,
  "nbformat_minor": 0
}
